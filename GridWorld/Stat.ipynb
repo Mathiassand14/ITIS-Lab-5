{
 "cells": [
  {
   "cell_type": "code",
   "execution_count": 19,
   "id": "initial_id",
   "metadata": {
    "ExecuteTime": {
     "end_time": "2024-11-27T14:13:30.693979Z",
     "start_time": "2024-11-27T14:13:30.007065Z"
    },
    "collapsed": true
   },
   "outputs": [
    {
     "name": "stdout",
     "output_type": "stream",
     "text": [
      "Time    2.02459\n",
      "dtype: float64\n",
      "3.023318702565411\n"
     ]
    }
   ],
   "source": [
    "import pandas as pd\n",
    "import os\n",
    "import numpy as np\n",
    "\n",
    "def generate_sorted_csv(file_path: str,new_file_path: str):\n",
    "    if not os.path.exists(file_path):\n",
    "        raise FileNotFoundError(f\"The file {file_path} does not exist.\")\n",
    "    data = pd.read_csv(file_path)\n",
    "    if 'Gamma' not in data.columns:\n",
    "        raise ValueError(\"The input file does not contain a 'Gamma' column.\")\n",
    "    sorted_data = data.sort_values(by='Gamma')\n",
    "    sorted_data = sorted_data[['Gamma'] + [col for col in sorted_data.columns if col != 'Gamma']]\n",
    "    sorted_data.to_csv(new_file_path, index=False)\n",
    "\n",
    "data = pd.read_csv(r\"C:\\Users\\erikl\\Documents\\GitHub\\ITIS-Lab-5\\GridWorld\\sorted_results.csv\")\n",
    "meantime = data[[\"Time\"]][277655:308335].mean()\n",
    "print(meantime)\n",
    "mean = data[\"Time\"].mean()\n",
    "print(mean)\n",
    "generate_sorted_csv(\"results.csv\",\"sorted_results.csv\")#%%"
   ]
  },
  {
   "cell_type": "code",
   "execution_count": 21,
   "id": "6c9cf509",
   "metadata": {},
   "outputs": [
    {
     "name": "stdout",
     "output_type": "stream",
     "text": [
      "0.13145118442404063 0.13891881557595936\n",
      "1.0 1.0\n",
      "1.0 1.0\n",
      "1.0 1.0\n",
      "1.0 1.0\n",
      "0.7451636648985444 0.7548543351014557\n",
      "0.0 0.0\n",
      "0.0 0.0\n",
      "0.0 0.0\n",
      "0.0 0.0\n"
     ]
    }
   ],
   "source": [
    "n1 = 32215\n",
    "n2 = 62895 - 32215\n",
    "n3 = 93575 - 62895\n",
    "n4 = 124255 - 93575\n",
    "n5 = 154935 - 124255\n",
    "n6 = 185615 - 154935\n",
    "n7 = 216295 - 185615\n",
    "n8 = 246975 - 216295\n",
    "n9 = 277655 - 246975\n",
    "n10 = 308335 - 277655\n",
    "\n",
    "SE1 = np.sqrt((0.135185*(1-0.135185))/n1)\n",
    "SE2 = np.sqrt((1*(1-1))/n2)\n",
    "SE3 = np.sqrt((1*(1-1))/n3)\n",
    "SE4 = np.sqrt((1*(1-1))/n4)\n",
    "SE5 = np.sqrt((1*(1-1))/n5)\n",
    "SE6 = np.sqrt((0.750009*(1-0.750009))/n6)\n",
    "SE7 = np.sqrt((0*(1-0))/n7)\n",
    "SE8 = np.sqrt((0*(1-0))/n8)\n",
    "SE9 = np.sqrt((0*(1-0))/n9)\n",
    "SE10 = np.sqrt((0*(1-0))/n10)\n",
    "\n",
    "CI1u = 0.135185 + 1.96*SE1\n",
    "CI1l = 0.135185 - 1.96*SE1\n",
    "CI2u = 1 + 1.96*SE2\n",
    "CI2l = 1 - 1.96*SE2\n",
    "CI3u = 1 + 1.96*SE3\n",
    "CI3l = 1 - 1.96*SE3\n",
    "CI4u = 1 + 1.96*SE4\n",
    "CI4l = 1 - 1.96*SE4\n",
    "CI5u = 1 + 1.96*SE5\n",
    "CI5l = 1 - 1.96*SE5\n",
    "CI6u = 0.750009 + 1.96*SE6\n",
    "CI6l = 0.750009 - 1.96*SE6\n",
    "CI7u = 0 + 1.96*SE7\n",
    "CI7l = 0 - 1.96*SE7\n",
    "CI8u = 0 + 1.96*SE8\n",
    "CI8l = 0 - 1.96*SE8\n",
    "CI9u = 0 + 1.96*SE9\n",
    "CI9l = 0 - 1.96*SE9\n",
    "CI10u = 0 + 1.96*SE10\n",
    "CI10l = 0 - 1.96*SE10\n",
    "\n",
    "print(CI1l,CI1u)\n",
    "print(CI2l,CI2u)\n",
    "print(CI3l,CI3u)\n",
    "print(CI4l,CI4u)\n",
    "print(CI5l,CI5u)\n",
    "print(CI6l,CI6u)\n",
    "print(CI7l,CI7u)\n",
    "print(CI8l,CI8u)\n",
    "print(CI9l,CI9u)\n",
    "print(CI10l,CI10u)"
   ]
  },
  {
   "cell_type": "code",
   "execution_count": null,
   "id": "c19ac374",
   "metadata": {},
   "outputs": [],
   "source": []
  }
 ],
 "metadata": {
  "kernelspec": {
   "display_name": "Python 3",
   "language": "python",
   "name": "python3"
  },
  "language_info": {
   "codemirror_mode": {
    "name": "ipython",
    "version": 3
   },
   "file_extension": ".py",
   "mimetype": "text/x-python",
   "name": "python",
   "nbconvert_exporter": "python",
   "pygments_lexer": "ipython3",
   "version": "3.12.5"
  }
 },
 "nbformat": 4,
 "nbformat_minor": 5
}
