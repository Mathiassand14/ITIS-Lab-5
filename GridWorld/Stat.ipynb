{
 "cells": [
  {
   "cell_type": "code",
   "id": "initial_id",
   "metadata": {
    "collapsed": true,
    "ExecuteTime": {
     "end_time": "2024-11-27T14:13:30.693979Z",
     "start_time": "2024-11-27T14:13:30.007065Z"
    }
   },
   "source": [
    "import pandas as pd\n",
    "import os\n",
    "\n",
    "def generate_sorted_csv(file_path: str,new_file_path: str):\n",
    "    if not os.path.exists(file_path):\n",
    "        raise FileNotFoundError(f\"The file {file_path} does not exist.\")\n",
    "    data = pd.read_csv(file_path)\n",
    "    if 'Gamma' not in data.columns:\n",
    "        raise ValueError(\"The input file does not contain a 'Gamma' column.\")\n",
    "    sorted_data = data.sort_values(by='Gamma')\n",
    "    sorted_data = sorted_data[['Gamma'] + [col for col in sorted_data.columns if col != 'Gamma']]\n",
    "    sorted_data.to_csv(new_file_path, index=False)\n",
    "\n",
    "generate_sorted_csv(\"results.csv\",\"sorted_results.csv\")#%%"
   ],
   "outputs": [],
   "execution_count": 2
  }
 ],
 "metadata": {
  "kernelspec": {
   "display_name": "Python 3",
   "language": "python",
   "name": "python3"
  },
  "language_info": {
   "codemirror_mode": {
    "name": "ipython",
    "version": 2
   },
   "file_extension": ".py",
   "mimetype": "text/x-python",
   "name": "python",
   "nbconvert_exporter": "python",
   "pygments_lexer": "ipython2",
   "version": "2.7.6"
  }
 },
 "nbformat": 4,
 "nbformat_minor": 5
}
